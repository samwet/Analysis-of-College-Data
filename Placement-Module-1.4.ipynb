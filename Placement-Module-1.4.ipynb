{
 "cells": [
  {
   "cell_type": "markdown",
   "metadata": {},
   "source": [
    "# Highest Package Achievers:\n",
    "# This module will analyze the marks of highest package achievers from the college. It may help in finding relation between marks and placement."
   ]
  },
  {
   "cell_type": "code",
   "execution_count": 2,
   "metadata": {
    "collapsed": false
   },
   "outputs": [
    {
     "data": {
      "text/html": [
       "<div>\n",
       "<table border=\"1\" class=\"dataframe\">\n",
       "  <thead>\n",
       "    <tr style=\"text-align: right;\">\n",
       "      <th></th>\n",
       "      <th>S. No.</th>\n",
       "      <th>Name</th>\n",
       "      <th>Branch</th>\n",
       "      <th>10th%/CGPA</th>\n",
       "      <th>12th%</th>\n",
       "      <th>B Tech%</th>\n",
       "      <th>Placement Status</th>\n",
       "      <th>Profile</th>\n",
       "      <th>Package</th>\n",
       "    </tr>\n",
       "  </thead>\n",
       "  <tbody>\n",
       "    <tr>\n",
       "      <th>23</th>\n",
       "      <td>1936</td>\n",
       "      <td>Nikhil Kumar</td>\n",
       "      <td>CSE</td>\n",
       "      <td>8.4</td>\n",
       "      <td>78.4</td>\n",
       "      <td>72.80</td>\n",
       "      <td>Y</td>\n",
       "      <td>SD</td>\n",
       "      <td>3.25</td>\n",
       "    </tr>\n",
       "    <tr>\n",
       "      <th>39</th>\n",
       "      <td>1952</td>\n",
       "      <td>Shagufta Banu</td>\n",
       "      <td>CSE</td>\n",
       "      <td>9.8</td>\n",
       "      <td>76.4</td>\n",
       "      <td>75.00</td>\n",
       "      <td>Y</td>\n",
       "      <td>SD</td>\n",
       "      <td>3.20</td>\n",
       "    </tr>\n",
       "    <tr>\n",
       "      <th>18</th>\n",
       "      <td>1931</td>\n",
       "      <td>Kartik Tyagi</td>\n",
       "      <td>CSE</td>\n",
       "      <td>8.2</td>\n",
       "      <td>72.6</td>\n",
       "      <td>71.55</td>\n",
       "      <td>Y</td>\n",
       "      <td>SD</td>\n",
       "      <td>3.15</td>\n",
       "    </tr>\n",
       "    <tr>\n",
       "      <th>32</th>\n",
       "      <td>1945</td>\n",
       "      <td>Ramji Misra</td>\n",
       "      <td>CSE</td>\n",
       "      <td>10.0</td>\n",
       "      <td>81.4</td>\n",
       "      <td>74.00</td>\n",
       "      <td>Y</td>\n",
       "      <td>SD</td>\n",
       "      <td>3.10</td>\n",
       "    </tr>\n",
       "    <tr>\n",
       "      <th>49</th>\n",
       "      <td>1962</td>\n",
       "      <td>Vaishali Chauhan</td>\n",
       "      <td>CSE</td>\n",
       "      <td>10.0</td>\n",
       "      <td>85.2</td>\n",
       "      <td>74.50</td>\n",
       "      <td>Y</td>\n",
       "      <td>SD</td>\n",
       "      <td>3.00</td>\n",
       "    </tr>\n",
       "  </tbody>\n",
       "</table>\n",
       "</div>"
      ],
      "text/plain": [
       "    S. No.              Name Branch  10th%/CGPA  12th%   B Tech%  \\\n",
       "23    1936      Nikhil Kumar    CSE         8.4    78.4    72.80   \n",
       "39    1952     Shagufta Banu    CSE         9.8    76.4    75.00   \n",
       "18    1931      Kartik Tyagi    CSE         8.2    72.6    71.55   \n",
       "32    1945       Ramji Misra    CSE        10.0    81.4    74.00   \n",
       "49    1962  Vaishali Chauhan    CSE        10.0    85.2    74.50   \n",
       "\n",
       "   Placement Status Profile  Package  \n",
       "23                Y      SD     3.25  \n",
       "39                Y      SD     3.20  \n",
       "18                Y      SD     3.15  \n",
       "32                Y      SD     3.10  \n",
       "49                Y      SD     3.00  "
      ]
     },
     "execution_count": 2,
     "metadata": {},
     "output_type": "execute_result"
    }
   ],
   "source": [
    "# import packages\n",
    "import pandas\n",
    "\n",
    "df = pandas.read_excel(\"Placement Data.xlsx\") # read excel as a dataframe\n",
    "sorted_df = df.sort_values('Package', ascending=False) # sort the dataframe according to package\n",
    "sorted_df.head(5)\n"
   ]
  },
  {
   "cell_type": "code",
   "execution_count": 5,
   "metadata": {
    "collapsed": false
   },
   "outputs": [
    {
     "data": {
      "image/png": "[encoded data removed]",
      "text/plain": [
       "<matplotlib.figure.Figure at 0x878c5f0>"
      ]
     },
     "metadata": {},
     "output_type": "display_data"
    }
   ],
   "source": [
    "final_df = sorted_df.head(5) # select only first five records\n",
    "\n",
    "#going to implement python dictionary\n",
    "my_dict = {}\n",
    "\n",
    "\n",
    "for row in final_df.itertuples():\n",
    "    cur_name = row[2] #name\n",
    "    cur_percent = row[6] #b.tech percentage\n",
    "    my_dict[cur_name]=cur_percent #python dictionary magic\n",
    "    \n",
    "\n",
    "\"\"\"\n",
    "Plot Bar Graph\n",
    "\"\"\"\n",
    "\n",
    "import matplotlib.pyplot as plt;\n",
    "figsize=(22,17)\n",
    "bar_width = 0.35    \n",
    "plt.bar(range(len(my_dict)), my_dict.values(), bar_width, align='center', color='g', alpha=0.5)\n",
    "plt.xticks(range(len(my_dict)), my_dict.keys())\n",
    "plt.ylabel('B.Tech Percentage')\n",
    "plt.title('Graphical analysis of highest package achievers')\n",
    "\n",
    "plt.show()"
   ]
  },
  {
   "cell_type": "markdown",
   "metadata": {},
   "source": [
    "# The above graph proves that the students who got best packages have also scored very good marks in their academics. All of them have score above 70% marks.\n",
    "# So, it can be concluded that good performence in academics is one key attribute of highest package achievers."
   ]
  }
 ],
 "metadata": {
  "kernelspec": {
   "display_name": "Python 3",
   "language": "python",
   "name": "python3"
  },
  "language_info": {
   "codemirror_mode": {
    "name": "ipython",
    "version": 3
   },
   "file_extension": ".py",
   "mimetype": "text/x-python",
   "name": "python",
   "nbconvert_exporter": "python",
   "pygments_lexer": "ipython3",
   "version": "3.6.0"
  }
 },
 "nbformat": 4,
 "nbformat_minor": 2
}
