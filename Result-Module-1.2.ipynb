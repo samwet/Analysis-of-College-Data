{
 "cells": [
  {
   "cell_type": "markdown",
   "metadata": {},
   "source": [
    "# Subjectwise Total: This module will analyze marks scored in different subject by all students in exams.\n"
   ]
  },
  {
   "cell_type": "code",
   "execution_count": 1,
   "metadata": {
    "collapsed": false
   },
   "outputs": [
    {
     "data": {
      "text/html": [
       "<div>\n",
       "<table border=\"1\" class=\"dataframe\">\n",
       "  <thead>\n",
       "    <tr style=\"text-align: right;\">\n",
       "      <th></th>\n",
       "      <th>Roll No</th>\n",
       "      <th>Name</th>\n",
       "      <th>Semester</th>\n",
       "      <th>CN</th>\n",
       "      <th>CD</th>\n",
       "      <th>SE</th>\n",
       "      <th>MS</th>\n",
       "      <th>DWM</th>\n",
       "      <th>IM</th>\n",
       "      <th>Total</th>\n",
       "    </tr>\n",
       "  </thead>\n",
       "  <tbody>\n",
       "    <tr>\n",
       "      <th>0</th>\n",
       "      <td>1</td>\n",
       "      <td>Vipin</td>\n",
       "      <td>6</td>\n",
       "      <td>45</td>\n",
       "      <td>60</td>\n",
       "      <td>76</td>\n",
       "      <td>50</td>\n",
       "      <td>31</td>\n",
       "      <td>25</td>\n",
       "      <td>656</td>\n",
       "    </tr>\n",
       "    <tr>\n",
       "      <th>1</th>\n",
       "      <td>2</td>\n",
       "      <td>Y</td>\n",
       "      <td>6</td>\n",
       "      <td>35</td>\n",
       "      <td>60</td>\n",
       "      <td>76</td>\n",
       "      <td>31</td>\n",
       "      <td>31</td>\n",
       "      <td>25</td>\n",
       "      <td>781</td>\n",
       "    </tr>\n",
       "    <tr>\n",
       "      <th>2</th>\n",
       "      <td>3</td>\n",
       "      <td>Z</td>\n",
       "      <td>6</td>\n",
       "      <td>60</td>\n",
       "      <td>60</td>\n",
       "      <td>45</td>\n",
       "      <td>50</td>\n",
       "      <td>31</td>\n",
       "      <td>25</td>\n",
       "      <td>599</td>\n",
       "    </tr>\n",
       "    <tr>\n",
       "      <th>3</th>\n",
       "      <td>4</td>\n",
       "      <td>A</td>\n",
       "      <td>6</td>\n",
       "      <td>28</td>\n",
       "      <td>69</td>\n",
       "      <td>40</td>\n",
       "      <td>30</td>\n",
       "      <td>31</td>\n",
       "      <td>25</td>\n",
       "      <td>600</td>\n",
       "    </tr>\n",
       "    <tr>\n",
       "      <th>4</th>\n",
       "      <td>5</td>\n",
       "      <td>B</td>\n",
       "      <td>6</td>\n",
       "      <td>67</td>\n",
       "      <td>45</td>\n",
       "      <td>60</td>\n",
       "      <td>90</td>\n",
       "      <td>31</td>\n",
       "      <td>25</td>\n",
       "      <td>580</td>\n",
       "    </tr>\n",
       "  </tbody>\n",
       "</table>\n",
       "</div>"
      ],
      "text/plain": [
       "   Roll No   Name  Semester  CN  CD  SE  MS  DWM  IM  Total\n",
       "0        1  Vipin         6  45  60  76  50   31  25    656\n",
       "1        2      Y         6  35  60  76  31   31  25    781\n",
       "2        3      Z         6  60  60  45  50   31  25    599\n",
       "3        4      A         6  28  69  40  30   31  25    600\n",
       "4        5      B         6  67  45  60  90   31  25    580"
      ]
     },
     "execution_count": 1,
     "metadata": {},
     "output_type": "execute_result"
    }
   ],
   "source": [
    "%matplotlib inline\n",
    "\n",
    "import pandas \n",
    "import numpy as np\n",
    "import matplotlib.pyplot as plt\n",
    "plt.rcdefaults()\n",
    "fig, ax = plt.subplots()\n",
    "\n",
    "df = pandas.read_excel(\"Result Data.xlsx\")\n",
    "\n",
    "df.head()"
   ]
  },
  {
   "cell_type": "code",
   "execution_count": 3,
   "metadata": {
    "collapsed": false
   },
   "outputs": [
    {
     "data": {
      "image/png": "[encoded data removed]",
      "text/plain": [
       "<matplotlib.figure.Figure at 0x74073b0>"
      ]
     },
     "metadata": {},
     "output_type": "display_data"
    }
   ],
   "source": [
    "sumCN = df.CN.sum()\n",
    "sumCD = df.CD.sum()\n",
    "sumSE = df.SE.sum()\n",
    "sumMS = df.MS.sum()\n",
    "\n",
    "n_groups = 4\n",
    "\n",
    "sub_total = (sumCN, sumCD, sumSE, sumMS)\n",
    "\n",
    "index = np.arange(n_groups)\n",
    "bar_width = 0.35\n",
    "\n",
    "opacity = 0.6\n",
    "\n",
    "rects1 = plt.bar(index, sub_total, bar_width,\n",
    "                 alpha=opacity,\n",
    "                 color='b',\n",
    "                 label='Marks'\n",
    "                 )\n",
    "\n",
    "\n",
    "plt.xlabel('Subjects')\n",
    "plt.ylabel('Scores')\n",
    "plt.title('Graphical Analysis')\n",
    "plt.xticks(index, ('CN', 'CD', 'SE', 'MS'))\n",
    "plt.legend()\n",
    "\n",
    "plt.tight_layout()\n",
    "plt.show()"
   ]
  },
  {
   "cell_type": "markdown",
   "metadata": {
    "collapsed": true
   },
   "source": [
    "# The graph clearly shows that students scored maximum marks in Software Engineering. Whereas special attention is needed in subjects such as Computer Networks."
   ]
  }
 ],
 "metadata": {
  "kernelspec": {
   "display_name": "Python 3",
   "language": "python",
   "name": "python3"
  },
  "language_info": {
   "codemirror_mode": {
    "name": "ipython",
    "version": 3
   },
   "file_extension": ".py",
   "mimetype": "text/x-python",
   "name": "python",
   "nbconvert_exporter": "python",
   "pygments_lexer": "ipython3",
   "version": "3.6.0"
  }
 },
 "nbformat": 4,
 "nbformat_minor": 2
}
