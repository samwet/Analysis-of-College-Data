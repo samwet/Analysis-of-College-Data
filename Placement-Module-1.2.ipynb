{
 "cells": [
  {
   "cell_type": "markdown",
   "metadata": {},
   "source": [
    "# Placement Statistics Comparision:\n",
    "# This will give information about number of students registered with placement cell and number of students who got placed comparing the last two batches."
   ]
  },
  {
   "cell_type": "code",
   "execution_count": 5,
   "metadata": {
    "collapsed": false
   },
   "outputs": [
    {
     "data": {
      "image/png": "[encoded data removed]",
      "text/plain": [
       "<matplotlib.figure.Figure at 0x9622df0>"
      ]
     },
     "metadata": {},
     "output_type": "display_data"
    }
   ],
   "source": [
    "import pandas\n",
    "\n",
    "df1 = pandas.read_excel(\"Placement Data.xlsx\") # as dataframe\n",
    "df2 = pandas.read_excel(\"Placement Data - Old.xlsx\") # as dataframe\n",
    "\n",
    "row_count1 = len(df1) # returns number of records\n",
    "row_count2 = len(df2) # returns number of records\n",
    "\n",
    "students_reg1 = row_count1\n",
    "students_reg2 = row_count2\n",
    "\n",
    "placement_status_list1 = df1[\"Placement Status\"].tolist() # returns placement status as a list\n",
    "placement_status_list2 = df2[\"Placement Status\"].tolist() # returns placement status as a list\n",
    "\n",
    "students_placed1 = 0\n",
    "\n",
    "for element in placement_status_list1:\n",
    "    if(element=='Y'): # if placement status is yes\n",
    "        students_placed1+=1\n",
    "\n",
    "# for second batch\n",
    "students_placed2 = 0\n",
    "\n",
    "for element in placement_status_list2:\n",
    "    if(element=='Y'): # if placement status is yes\n",
    "        students_placed2+=1\n",
    "\n",
    "\"\"\"\n",
    "========\n",
    "Plot a Barchart\n",
    "========\n",
    "\"\"\"\n",
    "\n",
    "import numpy as np\n",
    "import matplotlib.pyplot as plt\n",
    "%matplotlib inline\n",
    "\n",
    "N = 2\n",
    "ind = np.arange(N) # generate array of numbers in range 0 to N-1. It is the x locations for the groups\n",
    "width = 0.5       # the width of the bars\n",
    "fig, ax = plt.subplots()\n",
    "\n",
    "list1 = [students_reg1,students_reg2]\n",
    "list2 = [students_placed1,students_placed2]\n",
    "\n",
    "rects1 = ax.bar(ind, list1, width, color='y')\n",
    "rects2 = ax.bar(ind, list2, width, color='g')\n",
    "\n",
    "\n",
    "# add some text for labels, title and axes ticks\n",
    "ax.set_ylabel('Number of Students')\n",
    "ax.set_title('Bar Graph')\n",
    "#ax.set_xticks(ind)\n",
    "ax.set_xticklabels(('X'))\n",
    "\n",
    "\n",
    "def autolabel(rects):\n",
    "    \"\"\"\n",
    "    Attach a text label above each bar displaying its height\n",
    "    \"\"\"\n",
    "    for rect in rects:\n",
    "        height = rect.get_height()\n",
    "        ax.text(rect.get_x() + rect.get_width()/2., 1.0*height,\n",
    "                '%d' % int(height),\n",
    "                ha='center', va='bottom')\n",
    "\n",
    "autolabel(rects1)\n",
    "autolabel(rects2)\n",
    "\n",
    "plt.show()"
   ]
  },
  {
   "cell_type": "markdown",
   "metadata": {
    "collapsed": true
   },
   "source": [
    "# Clearly the previous year had better placement ratio than the current batch.\n",
    "# This year 23 out of 64 students were placed.\n",
    "# Last year 27 out of 55 students were placed."
   ]
  }
 ],
 "metadata": {
  "kernelspec": {
   "display_name": "Python 3",
   "language": "python",
   "name": "python3"
  },
  "language_info": {
   "codemirror_mode": {
    "name": "ipython",
    "version": 3
   },
   "file_extension": ".py",
   "mimetype": "text/x-python",
   "name": "python",
   "nbconvert_exporter": "python",
   "pygments_lexer": "ipython3",
   "version": "3.6.0"
  }
 },
 "nbformat": 4,
 "nbformat_minor": 2
}
