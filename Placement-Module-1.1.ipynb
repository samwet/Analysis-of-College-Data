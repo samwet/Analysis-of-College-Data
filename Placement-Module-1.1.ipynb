{
 "cells": [
  {
   "cell_type": "markdown",
   "metadata": {},
   "source": [
    "# Placement Statistics Module:\n",
    "# This will give information about number of students registered with placement cell and number of students who got placed."
   ]
  },
  {
   "cell_type": "code",
   "execution_count": 1,
   "metadata": {
    "collapsed": true
   },
   "outputs": [],
   "source": [
    "# import packages\n",
    "\n",
    "import pandas"
   ]
  },
  {
   "cell_type": "code",
   "execution_count": 2,
   "metadata": {
    "collapsed": false
   },
   "outputs": [
    {
     "data": {
      "text/html": [
       "<div>\n",
       "<table border=\"1\" class=\"dataframe\">\n",
       "  <thead>\n",
       "    <tr style=\"text-align: right;\">\n",
       "      <th></th>\n",
       "      <th>S. No.</th>\n",
       "      <th>Name</th>\n",
       "      <th>Branch</th>\n",
       "      <th>10th%/CGPA</th>\n",
       "      <th>12th%</th>\n",
       "      <th>B Tech%</th>\n",
       "      <th>Placement Status</th>\n",
       "      <th>Profile</th>\n",
       "      <th>Package</th>\n",
       "    </tr>\n",
       "  </thead>\n",
       "  <tbody>\n",
       "    <tr>\n",
       "      <th>0</th>\n",
       "      <td>1913</td>\n",
       "      <td>Abdul mannan Ali</td>\n",
       "      <td>CSE</td>\n",
       "      <td>72.0</td>\n",
       "      <td>66.5</td>\n",
       "      <td>66.0</td>\n",
       "      <td>N</td>\n",
       "      <td>N</td>\n",
       "      <td>0.0</td>\n",
       "    </tr>\n",
       "    <tr>\n",
       "      <th>1</th>\n",
       "      <td>1914</td>\n",
       "      <td>Abhijeet Kumar</td>\n",
       "      <td>CSE</td>\n",
       "      <td>78.0</td>\n",
       "      <td>68.0</td>\n",
       "      <td>65.0</td>\n",
       "      <td>N</td>\n",
       "      <td>N</td>\n",
       "      <td>0.0</td>\n",
       "    </tr>\n",
       "    <tr>\n",
       "      <th>2</th>\n",
       "      <td>1915</td>\n",
       "      <td>ABHINAV KUMAR</td>\n",
       "      <td>CSE</td>\n",
       "      <td>64.6</td>\n",
       "      <td>72.2</td>\n",
       "      <td>63.0</td>\n",
       "      <td>N</td>\n",
       "      <td>N</td>\n",
       "      <td>0.0</td>\n",
       "    </tr>\n",
       "    <tr>\n",
       "      <th>3</th>\n",
       "      <td>1916</td>\n",
       "      <td>Abhishek Dixit</td>\n",
       "      <td>CSE</td>\n",
       "      <td>68.0</td>\n",
       "      <td>65.0</td>\n",
       "      <td>61.0</td>\n",
       "      <td>N</td>\n",
       "      <td>N</td>\n",
       "      <td>0.0</td>\n",
       "    </tr>\n",
       "    <tr>\n",
       "      <th>4</th>\n",
       "      <td>1917</td>\n",
       "      <td>Akanksha</td>\n",
       "      <td>CSE</td>\n",
       "      <td>7.6</td>\n",
       "      <td>71.8</td>\n",
       "      <td>72.7</td>\n",
       "      <td>Y</td>\n",
       "      <td>BPO</td>\n",
       "      <td>2.5</td>\n",
       "    </tr>\n",
       "  </tbody>\n",
       "</table>\n",
       "</div>"
      ],
      "text/plain": [
       "   S. No.              Name Branch  10th%/CGPA  12th%   B Tech%  \\\n",
       "0    1913  Abdul mannan Ali    CSE        72.0    66.5     66.0   \n",
       "1    1914    Abhijeet Kumar    CSE        78.0    68.0     65.0   \n",
       "2    1915     ABHINAV KUMAR    CSE        64.6    72.2     63.0   \n",
       "3    1916    Abhishek Dixit    CSE        68.0    65.0     61.0   \n",
       "4    1917          Akanksha    CSE         7.6    71.8     72.7   \n",
       "\n",
       "  Placement Status Profile  Package  \n",
       "0                N       N      0.0  \n",
       "1                N       N      0.0  \n",
       "2                N       N      0.0  \n",
       "3                N       N      0.0  \n",
       "4                Y     BPO      2.5  "
      ]
     },
     "execution_count": 2,
     "metadata": {},
     "output_type": "execute_result"
    }
   ],
   "source": [
    "# read excel file containing placement data\n",
    "\n",
    "df = pandas.read_excel(\"Placement Data.xlsx\") # as dataframe\n",
    "df.head() # displays first five records"
   ]
  },
  {
   "cell_type": "code",
   "execution_count": 4,
   "metadata": {
    "collapsed": false
   },
   "outputs": [
    {
     "data": {
      "image/png": "[encoded data removed]",
      "text/plain": [
       "<matplotlib.figure.Figure at 0x799c8d0>"
      ]
     },
     "metadata": {},
     "output_type": "display_data"
    }
   ],
   "source": [
    "row_count = len(df) # returns number of records\n",
    "\n",
    "students_reg = row_count\n",
    "\n",
    "placement_status_list = df[\"Placement Status\"].tolist() # returns placement status as a list\n",
    "\n",
    "students_placed = 0\n",
    "\n",
    "for element in placement_status_list:\n",
    "    if(element=='Y'): # if placement status is yes\n",
    "        students_placed+=1\n",
    "\n",
    "\"\"\"\n",
    "========\n",
    "Plot a Barchart\n",
    "========\n",
    "\"\"\"\n",
    "\n",
    "import numpy as np\n",
    "import matplotlib.pyplot as plt\n",
    "%matplotlib inline\n",
    "\n",
    "N = 1\n",
    "ind = np.arange(N) # generate array of numbers in range 0 to N-1. It is the x locations for the groups\n",
    "width = 0.5       # the width of the bars\n",
    "fig, ax = plt.subplots()\n",
    "\n",
    "rects1 = ax.bar(ind, students_reg, width, color='b')\n",
    "rects2 = ax.bar(ind+2, students_placed, width, color='g')\n",
    "\n",
    "# add some text for labels, title and axes ticks\n",
    "ax.set_ylabel('Number of Students')\n",
    "ax.set_title('Bar Graph')\n",
    "#ax.set_xticks(ind)\n",
    "ax.set_xticklabels(('X'))\n",
    "\n",
    "ax.legend((rects1[0], rects2[0]), ('Registered', 'Placed'))\n",
    "\n",
    "def autolabel(rects):\n",
    "    \"\"\"\n",
    "    Attach a text label above each bar displaying its height\n",
    "    \"\"\"\n",
    "    for rect in rects:\n",
    "        height = rect.get_height()\n",
    "        ax.text(rect.get_x() + rect.get_width()/2., 1.0*height,\n",
    "                '%d' % int(height),\n",
    "                ha='center', va='bottom')\n",
    "\n",
    "autolabel(rects1)\n",
    "autolabel(rects2)\n",
    "\n",
    "plt.show()\n",
    "\n",
    "# calculate pecentage of student placed\n",
    "\n",
    "placement_percent = (students_placed/students_reg)*100\n"
   ]
  },
  {
   "cell_type": "markdown",
   "metadata": {
    "collapsed": true
   },
   "source": [
    "# The graph shows that out of 64 registered student 23 got placed.\n",
    "# The placement percentage is approximately 36%"
   ]
  }
 ],
 "metadata": {
  "kernelspec": {
   "display_name": "Python 3",
   "language": "python",
   "name": "python3"
  },
  "language_info": {
   "codemirror_mode": {
    "name": "ipython",
    "version": 3
   },
   "file_extension": ".py",
   "mimetype": "text/x-python",
   "name": "python",
   "nbconvert_exporter": "python",
   "pygments_lexer": "ipython3",
   "version": "3.6.0"
  }
 },
 "nbformat": 4,
 "nbformat_minor": 2
}
