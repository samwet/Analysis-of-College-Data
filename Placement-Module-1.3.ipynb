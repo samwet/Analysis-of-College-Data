{
 "cells": [
  {
   "cell_type": "markdown",
   "metadata": {},
   "source": [
    "# Core vs Non-Core Selections:\n",
    "# This module will give information about number of students who got placed in core profiles such as Software Developer and non-core such as customer support."
   ]
  },
  {
   "cell_type": "code",
   "execution_count": 1,
   "metadata": {
    "collapsed": false
   },
   "outputs": [
    {
     "data": {
      "image/png": "[encoded data removed]",
      "text/plain": [
       "<matplotlib.figure.Figure at 0x75a0f30>"
      ]
     },
     "metadata": {},
     "output_type": "display_data"
    }
   ],
   "source": [
    "# import packages\n",
    "import pandas\n",
    "\n",
    "# read excel file containing placement data\n",
    "df = pandas.read_excel(\"Placement Data.xlsx\") # as dataframe\n",
    "\n",
    "profile_status_list = df[\"Profile\"].tolist() # returns placement status as a list\n",
    "\n",
    "\n",
    "seo,csa,sd=0,0,0\n",
    "\n",
    "for element in profile_status_list:\n",
    "    if(element=='SEO'): # if candidate has BPO profile\n",
    "        seo+=1\n",
    "    elif(element=='CSA'): # if customer support\n",
    "        csa+=1\n",
    "    elif(element=='SD'): # notice that if we use else non placed students will also get counted\n",
    "        sd+=1\n",
    "    \n",
    "\n",
    "# plot a horizontal bar chart\n",
    "from pylab import *\n",
    "\n",
    "profile_list = (csa,seo,sd)\n",
    "val = profile_list     # the bar lengths\n",
    "pos = arange(3)+300    # the bar centers on the y axis\n",
    "\n",
    "barh(pos,val,align='center',color='c')\n",
    "\n",
    "yticks(pos, ('Customer Support', 'SEO', 'Software Developer'))\n",
    "xlabel('Student Placed')\n",
    "show()"
   ]
  },
  {
   "cell_type": "markdown",
   "metadata": {},
   "source": [
    "# We found that 16 students have been placed in software developer positions.\n",
    "# While customer support has 3 students and SEO has 1 student."
   ]
  }
 ],
 "metadata": {
  "kernelspec": {
   "display_name": "Python 3",
   "language": "python",
   "name": "python3"
  },
  "language_info": {
   "codemirror_mode": {
    "name": "ipython",
    "version": 3
   },
   "file_extension": ".py",
   "mimetype": "text/x-python",
   "name": "python",
   "nbconvert_exporter": "python",
   "pygments_lexer": "ipython3",
   "version": "3.6.0"
  }
 },
 "nbformat": 4,
 "nbformat_minor": 2
}
