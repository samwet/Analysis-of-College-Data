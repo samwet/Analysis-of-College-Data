{
 "cells": [
  {
   "cell_type": "markdown",
   "metadata": {},
   "source": [
    "# Result Statistics: This will simply plot a graph of a student's performence by entering his/her roll number."
   ]
  },
  {
   "cell_type": "code",
   "execution_count": null,
   "metadata": {
    "collapsed": false
   },
   "outputs": [],
   "source": [
    "%matplotlib inline\n",
    "\n",
    "import pandas \n",
    "import numpy as np\n",
    "import matplotlib.pyplot as plt\n",
    "plt.rcdefaults()\n",
    "fig, ax = plt.subplots()\n",
    "\n",
    "df = pandas.read_excel(\"Result Data.xlsx\")\n",
    "\n",
    "roll_no = int(input('Enter roll number: ')) # typcasting because default input type is string\n",
    "temp_row = df.loc[df['Roll No'] == roll_no] # equivalent to select * from table where roll num = input\n",
    "print(temp_row)\n",
    "\n",
    "cn_marks = df.iloc[roll_no-1]['CN'] # used to get column value\n",
    "cd_marks = df.iloc[roll_no-1]['CD']\n",
    "se_marks = df.iloc[roll_no-1]['SE']\n",
    "ms_marks = df.iloc[roll_no-1]['MS']\n",
    "\n",
    "n_groups = 4\n",
    "index = np.arange(n_groups)\n",
    "bar_width = 0.35\n",
    "\n",
    "opacity = 0.6\n",
    "\n",
    "marks_list = [cn_marks, cd_marks, se_marks, ms_marks]\n",
    "\n",
    "rects1 = plt.bar(index, marks_list, bar_width,\n",
    "                 alpha=opacity,\n",
    "                 color='g',\n",
    "                 label='Marks'\n",
    "                 )\n",
    "\n",
    "\n",
    "plt.xlabel('Subjects')\n",
    "plt.ylabel('Marks Scored')\n",
    "plt.title('Graphical Analysis Marks')\n",
    "plt.xticks(index, ('CN', 'CD', 'SE', 'MS'))\n",
    "plt.legend()\n",
    "\n",
    "plt.tight_layout()\n",
    "plt.show()\n"
   ]
  },
  {
   "cell_type": "code",
   "execution_count": null,
   "metadata": {
    "collapsed": true
   },
   "outputs": [],
   "source": []
  }
 ],
 "metadata": {
  "kernelspec": {
   "display_name": "Python 3",
   "language": "python",
   "name": "python3"
  },
  "language_info": {
   "codemirror_mode": {
    "name": "ipython",
    "version": 3
   },
   "file_extension": ".py",
   "mimetype": "text/x-python",
   "name": "python",
   "nbconvert_exporter": "python",
   "pygments_lexer": "ipython3",
   "version": "3.6.0"
  }
 },
 "nbformat": 4,
 "nbformat_minor": 2
}
