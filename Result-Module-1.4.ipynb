{
 "cells": [
  {
   "cell_type": "markdown",
   "metadata": {},
   "source": [
    "# Student Classification Module: We will classify student as sincere/very sincere on the basis of his performance in both internal and external examinations.\n",
    "\n",
    "# We will use a simple classification algorithm -- K nearest neighbours or KNN."
   ]
  },
  {
   "cell_type": "code",
   "execution_count": 2,
   "metadata": {
    "collapsed": false
   },
   "outputs": [
    {
     "name": "stdout",
     "output_type": "stream",
     "text": [
      "Enter roll number: 3\n",
      "   Roll No    Name  Semester  CN  CD  SE  MS  DWM  IM  Total\n",
      "2        3  Deepak         6  28  55  45  53   28  35    550\n",
      "([Student] : roll no='A'; internal marks=400; external marks=350, class='Very Sincere', 120.88010589009261)\n",
      "([Student] : roll no='E'; internal marks=280; external marks=350, class='Sincere', 144.40221604947757)\n",
      "([Student] : roll no='C'; internal marks=450; external marks=400, class='Very Sincere', 186.04300578092153)\n",
      "([Student] : roll no='D'; internal marks=300; external marks=450, class='Sincere', 225.85836269662454)\n",
      "([Student] : roll no='B'; internal marks=250; external marks=500, class='Sincere', 290.1930391997713)\n",
      "\n",
      "Genre 'Very Sincere' has been added to '3'! Check next line:\n",
      "[Student] : roll no='3'; internal marks=366; external marks=234, class='Very Sincere'\n"
     ]
    }
   ],
   "source": [
    "from math import sqrt\n",
    "from operator import itemgetter\n",
    "import stu\n",
    "import pandas \n",
    "df = pandas.read_excel(\"Result Data.xlsx\")\n",
    "\n",
    "def calc_square_root_distance(sample_stud, s2bc):\n",
    "    sqrt_distance = sqrt(\n",
    "        (sample_stud.internal - s2bc.internal) ** 2\n",
    "        + (sample_stud.external - s2bc.external) ** 2\n",
    "    )\n",
    "    return (sample_stud, sqrt_distance)  # returns a tuple\n",
    "\n",
    "\n",
    "# approx threshold for internal = 400, external = 350\n",
    "sample_data = [stu.stu(\"A\", 400, 350, \"Very Sincere\"),\n",
    "               stu.stu(\"B\", 250, 500, \"Sincere\"),\n",
    "               stu.stu(\"C\", 450, 400, \"Very Sincere\"),\n",
    "               stu.stu(\"D\", 300, 450, \"Sincere\"),\n",
    "               stu.stu(\"E\", 280, 350, \"Sincere\"),\n",
    "              ]\n",
    "\n",
    "# input the roll number and findout internal and external marks\n",
    "roll_no = int(input('Enter roll number: ')) # typcasting because default input type is string\n",
    "temp_row = df.loc[df['Roll No'] == roll_no] # equivalent to select * from table where roll num = input\n",
    "print(temp_row)\n",
    "\n",
    "cn_marks = df.iloc[roll_no]['CN'] # used to get column value\n",
    "cd_marks = df.iloc[roll_no]['CD']\n",
    "se_marks = df.iloc[roll_no]['SE']\n",
    "ms_marks = df.iloc[roll_no]['MS']\n",
    "dwm_marks = df.iloc[roll_no]['DWM']\n",
    "im_marks = df.iloc[roll_no]['IM']\n",
    "total_marks = df.iloc[roll_no]['Total']\n",
    "external_marks = cn_marks + cd_marks + se_marks + ms_marks + dwm_marks + im_marks\n",
    "internal_marks = total_marks - external_marks # because one semester is of 1000 marks\n",
    "# movie to be classified\n",
    "s2bc = stu.stu(str(roll_no), internal_marks, external_marks, \"?\")\n",
    "\n",
    "# create an empty list to store the distances\n",
    "distances = []\n",
    "\n",
    "# calculate the distance from to unknown film to all the others\n",
    "for stu in sample_data:\n",
    "    # calculate the square-root distance between als Xi's and the actual point\n",
    "    distances.append(calc_square_root_distance(stu, s2bc))\n",
    "\n",
    "# sort the list\n",
    "sorted_distances = sorted(distances, key=itemgetter(1))\n",
    "\n",
    "# print the sorted list\n",
    "for elem in sorted_distances:\n",
    "    print(elem)\n",
    "\n",
    "# Define a k (the k from KNN). This k is, at how many student you want to look.\n",
    "# k should be smaller than the sample size to kick out outliers.\n",
    "# Bug big enough to get a good vote!\n",
    "K = 3\n",
    "\n",
    "# Count the genres and derive a vote\n",
    "candidates = list(map(itemgetter(0), sorted_distances[:K]))\n",
    "\n",
    "# create an empty directory:\n",
    "genre_count = {}\n",
    "\n",
    "for elem in candidates:\n",
    "    genre = elem.genre\n",
    "    if genre not in genre_count:\n",
    "        genre_count[genre] = 1\n",
    "    else:\n",
    "        genre_count[genre] += 1\n",
    "\n",
    "nearest_genre = max(genre_count, key=lambda i: genre_count[i])\n",
    "\n",
    "# Apply the voting results to the unknown film\n",
    "s2bc.genre = nearest_genre\n",
    "print(\"\\nGenre '\" + nearest_genre + \"' has been added to '\" + s2bc.roll_no\n",
    "      + \"'! Check next line:\\n\" + str(s2bc))\n"
   ]
  },
  {
   "cell_type": "markdown",
   "metadata": {
    "collapsed": true
   },
   "source": [
    "# We can easily verify the classification algorithm by enterning roll number of a student"
   ]
  }
 ],
 "metadata": {
  "kernelspec": {
   "display_name": "Python 3",
   "language": "python",
   "name": "python3"
  },
  "language_info": {
   "codemirror_mode": {
    "name": "ipython",
    "version": 3
   },
   "file_extension": ".py",
   "mimetype": "text/x-python",
   "name": "python",
   "nbconvert_exporter": "python",
   "pygments_lexer": "ipython3",
   "version": "3.6.0"
  }
 },
 "nbformat": 4,
 "nbformat_minor": 2
}
