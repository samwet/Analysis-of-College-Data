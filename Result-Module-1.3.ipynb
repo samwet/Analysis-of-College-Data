{
 "cells": [
  {
   "cell_type": "markdown",
   "metadata": {},
   "source": [
    "# Carry Papers Module: It help to identify in which subject most number of carry papers occurred."
   ]
  },
  {
   "cell_type": "code",
   "execution_count": 1,
   "metadata": {
    "collapsed": false
   },
   "outputs": [
    {
     "data": {
      "text/html": [
       "<div>\n",
       "<table border=\"1\" class=\"dataframe\">\n",
       "  <thead>\n",
       "    <tr style=\"text-align: right;\">\n",
       "      <th></th>\n",
       "      <th>Roll No</th>\n",
       "      <th>Name</th>\n",
       "      <th>Semester</th>\n",
       "      <th>CN</th>\n",
       "      <th>CD</th>\n",
       "      <th>SE</th>\n",
       "      <th>MS</th>\n",
       "      <th>DWM</th>\n",
       "      <th>IM</th>\n",
       "      <th>Total</th>\n",
       "    </tr>\n",
       "  </thead>\n",
       "  <tbody>\n",
       "    <tr>\n",
       "      <th>0</th>\n",
       "      <td>1</td>\n",
       "      <td>Aditya</td>\n",
       "      <td>6</td>\n",
       "      <td>45</td>\n",
       "      <td>60</td>\n",
       "      <td>76</td>\n",
       "      <td>50</td>\n",
       "      <td>31</td>\n",
       "      <td>25</td>\n",
       "      <td>656</td>\n",
       "    </tr>\n",
       "    <tr>\n",
       "      <th>1</th>\n",
       "      <td>2</td>\n",
       "      <td>Bimal</td>\n",
       "      <td>6</td>\n",
       "      <td>35</td>\n",
       "      <td>55</td>\n",
       "      <td>70</td>\n",
       "      <td>45</td>\n",
       "      <td>25</td>\n",
       "      <td>37</td>\n",
       "      <td>581</td>\n",
       "    </tr>\n",
       "    <tr>\n",
       "      <th>2</th>\n",
       "      <td>3</td>\n",
       "      <td>Deepak</td>\n",
       "      <td>6</td>\n",
       "      <td>28</td>\n",
       "      <td>55</td>\n",
       "      <td>45</td>\n",
       "      <td>53</td>\n",
       "      <td>28</td>\n",
       "      <td>35</td>\n",
       "      <td>550</td>\n",
       "    </tr>\n",
       "    <tr>\n",
       "      <th>3</th>\n",
       "      <td>4</td>\n",
       "      <td>Faisal</td>\n",
       "      <td>6</td>\n",
       "      <td>41</td>\n",
       "      <td>47</td>\n",
       "      <td>65</td>\n",
       "      <td>30</td>\n",
       "      <td>23</td>\n",
       "      <td>28</td>\n",
       "      <td>600</td>\n",
       "    </tr>\n",
       "    <tr>\n",
       "      <th>4</th>\n",
       "      <td>5</td>\n",
       "      <td>Gurveer</td>\n",
       "      <td>6</td>\n",
       "      <td>67</td>\n",
       "      <td>45</td>\n",
       "      <td>60</td>\n",
       "      <td>73</td>\n",
       "      <td>35</td>\n",
       "      <td>30</td>\n",
       "      <td>680</td>\n",
       "    </tr>\n",
       "  </tbody>\n",
       "</table>\n",
       "</div>"
      ],
      "text/plain": [
       "   Roll No     Name  Semester  CN  CD  SE  MS  DWM  IM  Total\n",
       "0        1   Aditya         6  45  60  76  50   31  25    656\n",
       "1        2    Bimal         6  35  55  70  45   25  37    581\n",
       "2        3   Deepak         6  28  55  45  53   28  35    550\n",
       "3        4   Faisal         6  41  47  65  30   23  28    600\n",
       "4        5  Gurveer         6  67  45  60  73   35  30    680"
      ]
     },
     "execution_count": 1,
     "metadata": {},
     "output_type": "execute_result"
    }
   ],
   "source": [
    "%matplotlib inline\n",
    "\n",
    "import pandas \n",
    "import numpy as np\n",
    "import matplotlib.pyplot as plt\n",
    "plt.rcdefaults()\n",
    "fig, ax = plt.subplots()\n",
    "\n",
    "df = pandas.read_excel(\"Result Data.xlsx\")\n",
    "\n",
    "df.head()"
   ]
  },
  {
   "cell_type": "markdown",
   "metadata": {},
   "source": [
    "Carry papers module"
   ]
  },
  {
   "cell_type": "code",
   "execution_count": 2,
   "metadata": {
    "collapsed": false
   },
   "outputs": [],
   "source": [
    "carryList = [0,0,0,0]\n",
    "\n",
    "cn_marks_list = df[\"CN\"].tolist() # gets subject marks as a list\n",
    "for i in cn_marks_list:\n",
    "    if(i<30):\n",
    "        carryList[0]+=1    \n",
    "\n",
    "cd_marks_list = df[\"CD\"].tolist() # gets subject marks as a list\n",
    "for i in cd_marks_list:\n",
    "    if(i<30):\n",
    "        carryList[1]+=1    \n",
    "\n",
    "se_marks_list = df[\"SE\"].tolist() # gets subject marks as a list\n",
    "for i in se_marks_list:\n",
    "    if(i<30):\n",
    "        carryList[2]+=1    \n",
    "\n",
    "ms_marks_list = df[\"MS\"].tolist() # gets subject marks as a list\n",
    "for i in ms_marks_list:\n",
    "    if(i<30):\n",
    "        carryList[3]+=1    \n"
   ]
  },
  {
   "cell_type": "code",
   "execution_count": 3,
   "metadata": {
    "collapsed": false
   },
   "outputs": [
    {
     "data": {
      "image/png": "[encoded data removed]",
      "text/plain": [
       "<matplotlib.figure.Figure at 0x7248310>"
      ]
     },
     "metadata": {},
     "output_type": "display_data"
    }
   ],
   "source": [
    "n_groups = 4\n",
    "\n",
    "index = np.arange(n_groups)\n",
    "bar_width = 0.35\n",
    "\n",
    "opacity = 0.6\n",
    "\n",
    "rects1 = plt.bar(index, carryList, bar_width,\n",
    "                 alpha=opacity,\n",
    "                 color='r',\n",
    "                 label='Frequency'\n",
    "                 )\n",
    "\n",
    "\n",
    "plt.xlabel('Subjects')\n",
    "plt.ylabel('Carry Papers')\n",
    "plt.title('Graphical Analysis of Carry Papers')\n",
    "plt.xticks(index, ('CN', 'CD', 'SE', 'MS'))\n",
    "plt.legend()\n",
    "\n",
    "plt.tight_layout()\n",
    "plt.show()"
   ]
  },
  {
   "cell_type": "markdown",
   "metadata": {
    "collapsed": true
   },
   "source": [
    "# From the graph we infer that three carry papers occurred in Computer Networks and one carry over in Compiler Design."
   ]
  }
 ],
 "metadata": {
  "kernelspec": {
   "display_name": "Python 3",
   "language": "python",
   "name": "python3"
  },
  "language_info": {
   "codemirror_mode": {
    "name": "ipython",
    "version": 3
   },
   "file_extension": ".py",
   "mimetype": "text/x-python",
   "name": "python",
   "nbconvert_exporter": "python",
   "pygments_lexer": "ipython3",
   "version": "3.6.0"
  }
 },
 "nbformat": 4,
 "nbformat_minor": 2
}
